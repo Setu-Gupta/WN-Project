{
 "cells": [
  {
   "cell_type": "code",
   "execution_count": 1,
   "metadata": {},
   "outputs": [],
   "source": [
    "import pandas as pd\n",
    "import numpy as np\n",
    "import re\n",
    "import matplotlib.pyplot as plt\n"
   ]
  },
  {
   "cell_type": "code",
   "execution_count": 2,
   "metadata": {},
   "outputs": [
    {
     "name": "stdout",
     "output_type": "stream",
     "text": [
      "0.925561797752809\n"
     ]
    }
   ],
   "source": [
    "def get_accuracy(filename):\n",
    "    with open(filename, 'r') as file:\n",
    "        lines = file.readlines()\n",
    "\n",
    "    print(float(lines[-4].split()[1]))\n",
    "\n",
    "get_accuracy(\"data/gru_50_50.log\")\n",
    "    "
   ]
  },
  {
   "cell_type": "code",
   "execution_count": 3,
   "metadata": {},
   "outputs": [],
   "source": [
    "class GetMetrics:\n",
    "    def __init__(self):\n",
    "        self.types = ['gru', 'lstm', 'rnn_relu', 'rnn_sigmoid', 'rnn_tanh']\n",
    "        self.FirstLayerNodes = np.arange(50, 501, 50)\n",
    "        self.AttentionNodes = np.arange(50, 1001, 50)\n",
    "        self.indices = {\n",
    "            \"Accuracy\": -4,\n",
    "            \"F1 Score\": -3,\n",
    "            \"Precision\": -2,\n",
    "            \"Recall\": -1\n",
    "        }\n",
    "        self.metric_dict_acc = {}\n",
    "        self.metric_dict_f1 = {}\n",
    "        self.metric_dict_prec = {}\n",
    "        self.metric_dict_rec = {}\n",
    "\n",
    "    def get_averages(self):\n",
    "        acc_averages = {}\n",
    "        f1_averages = {}\n",
    "        prec_averages = {}\n",
    "        rec_averages = {}\n",
    "        denominator = len(self.FirstLayerNodes)*len(self.AttentionNodes)\n",
    "        for type in self.types:\n",
    "            acc_sum = 0\n",
    "            f1_sum = 0\n",
    "            prec_sum = 0\n",
    "            rec_sum = 0\n",
    "            for FirstLayerNodes in self.FirstLayerNodes:\n",
    "                for AttentionNodes in self.AttentionNodes:\n",
    "                    acc_sum += self.metric_dict_acc['data/{}_{}_{}.log'.format(type, FirstLayerNodes, AttentionNodes)]\n",
    "                    f1_sum += self.metric_dict_f1['data/{}_{}_{}.log'.format(type, FirstLayerNodes, AttentionNodes)]\n",
    "                    prec_sum += self.metric_dict_prec['data/{}_{}_{}.log'.format(type, FirstLayerNodes, AttentionNodes)]\n",
    "                    rec_sum += self.metric_dict_rec['data/{}_{}_{}.log'.format(type, FirstLayerNodes, AttentionNodes)]\n",
    "            acc_averages[type] = acc_sum/denominator\n",
    "            f1_averages[type] = f1_sum/denominator\n",
    "            prec_averages[type] = prec_sum/denominator\n",
    "            rec_averages[type] = rec_sum/denominator\n",
    "        print('Average Accuracy of all models')\n",
    "        print(acc_averages)\n",
    "        print('Average F1 Scores of all models')\n",
    "        print(f1_averages)\n",
    "        print('Average Precision of all models')\n",
    "        print(prec_averages)\n",
    "        print('Average Recall of all models')\n",
    "        print(rec_averages)\n",
    "        \n",
    "\n",
    "    def get_metric_dicts(self):\n",
    "        for type in self.types:\n",
    "            for FirstLayerNodes in self.FirstLayerNodes:\n",
    "                for AttentionNodes in self.AttentionNodes:\n",
    "                    filename = 'data/{}_{}_{}.log'.format(type, FirstLayerNodes, AttentionNodes)\n",
    "                    self.metric_dict_acc[filename] = self.get_measure(filename, -4)\n",
    "                    self.metric_dict_f1[filename] = self.get_f1(filename)\n",
    "                    self.metric_dict_prec[filename] = self.get_measure(filename, -2)\n",
    "                    self.metric_dict_rec[filename] = self.get_measure(filename, -1)\n",
    "\n",
    "    \n",
    "            \n",
    "\n",
    "    def get_measure(self, filename, metric_index):\n",
    "        with open(filename, 'r') as file:\n",
    "            lines = file.readlines()\n",
    "\n",
    "        return float(lines[metric_index].split()[1])\n",
    "\n",
    "    def get_color_map(self):\n",
    "        #accuracy\n",
    "        for type in self.types:\n",
    "            x = []\n",
    "            y = []\n",
    "            c = []\n",
    "            for FirstLayerNodes in self.FirstLayerNodes:\n",
    "                for AttentionNodes in self.AttentionNodes:\n",
    "                    x.append(FirstLayerNodes)\n",
    "                    y.append(AttentionNodes)\n",
    "                    c.append(self.metric_dict_acc['data/{}_{}_{}.log'.format(type, FirstLayerNodes, AttentionNodes)])\n",
    "            plt.scatter(x=x,y=y,c=c,cmap='jet')\n",
    "            plt.title(\"{}: Accuracy\".format(type.upper()))\n",
    "            plt.xlabel(\"{} Nodes\".format(type.upper()))\n",
    "            plt.ylabel(\"Attention Nodes\")\n",
    "            plt.colorbar()\n",
    "            # plt.show()\n",
    "            plt.savefig('Images/HeatMaps/acc_{}.png'.format(type))\n",
    "            plt.close()\n",
    "\n",
    "        #f1 scores\n",
    "        for type in self.types:\n",
    "            x = []\n",
    "            y = []\n",
    "            c = []\n",
    "            for FirstLayerNodes in self.FirstLayerNodes:\n",
    "                for AttentionNodes in self.AttentionNodes:\n",
    "                    x.append(FirstLayerNodes)\n",
    "                    y.append(AttentionNodes)\n",
    "                    c.append(self.metric_dict_f1['data/{}_{}_{}.log'.format(type, FirstLayerNodes, AttentionNodes)])\n",
    "            plt.scatter(x=x,y=y,c=c,cmap='jet')\n",
    "            plt.title(\"{}: F1 Score\".format(type.upper()))\n",
    "            plt.xlabel(\"{} Nodes\".format(type.upper()))\n",
    "            plt.ylabel(\"Attention Nodes\")\n",
    "            plt.colorbar()\n",
    "            # plt.show()\n",
    "            plt.savefig('Images/HeatMaps/f1_{}.png'.format(type))\n",
    "            plt.close()\n",
    "\n",
    "        #precision\n",
    "        for type in self.types:\n",
    "            x = []\n",
    "            y = []\n",
    "            c = []\n",
    "            for FirstLayerNodes in self.FirstLayerNodes:\n",
    "                for AttentionNodes in self.AttentionNodes:\n",
    "                    x.append(FirstLayerNodes)\n",
    "                    y.append(AttentionNodes)\n",
    "                    c.append(self.metric_dict_prec['data/{}_{}_{}.log'.format(type, FirstLayerNodes, AttentionNodes)])\n",
    "            plt.scatter(x=x,y=y,c=c,cmap='jet')\n",
    "            plt.title(\"{}: Precision\".format(type.upper()))\n",
    "            plt.xlabel(\"{} Nodes\".format(type.upper()))\n",
    "            plt.ylabel(\"Attention Nodes\")\n",
    "            plt.colorbar()\n",
    "            # plt.show()\n",
    "            plt.savefig('Images/HeatMaps/prec_{}.png'.format(type))\n",
    "            plt.close()\n",
    "\n",
    "        #recall\n",
    "        for type in self.types:\n",
    "            x = []\n",
    "            y = []\n",
    "            c = []\n",
    "            for FirstLayerNodes in self.FirstLayerNodes:\n",
    "                for AttentionNodes in self.AttentionNodes:\n",
    "                    x.append(FirstLayerNodes)\n",
    "                    y.append(AttentionNodes)\n",
    "                    c.append(self.metric_dict_rec['data/{}_{}_{}.log'.format(type, FirstLayerNodes, AttentionNodes)])\n",
    "            plt.scatter(x=x,y=y,c=c,cmap='jet')\n",
    "            plt.title(\"{}: Recall\".format(type.upper()))\n",
    "            plt.xlabel(\"{} Nodes\".format(type.upper()))\n",
    "            plt.ylabel(\"Attention Nodes\")\n",
    "            plt.colorbar()\n",
    "            # plt.show()\n",
    "            plt.savefig('Images/HeatMaps/rec_{}.png'.format(type))\n",
    "            plt.close()\n",
    "\n",
    "\n",
    "    def get_f1(self, filename):\n",
    "        with open(filename, 'r') as file:\n",
    "            lines = file.readlines()\n",
    "\n",
    "        return float(lines[-3].split()[2])\n",
    "    \n",
    "    \n",
    "\n",
    "    "
   ]
  },
  {
   "cell_type": "code",
   "execution_count": 4,
   "metadata": {},
   "outputs": [],
   "source": [
    "obj = GetMetrics()\n",
    "obj.get_metric_dicts()"
   ]
  },
  {
   "cell_type": "code",
   "execution_count": 5,
   "metadata": {},
   "outputs": [
    {
     "name": "stdout",
     "output_type": "stream",
     "text": [
      "Average Accuracy of all models\n",
      "{'gru': 0.985681179775278, 'lstm': 0.9797542134831434, 'rnn_relu': 0.9889044943820187, 'rnn_sigmoid': 0.9307724719101109, 'rnn_tanh': 0.9701123595505604}\n",
      "Average F1 Scores of all models\n",
      "{'gru': 0.9856033927957768, 'lstm': 0.9796527056005285, 'rnn_relu': 0.9888863538541246, 'rnn_sigmoid': 0.9299324733308032, 'rnn_tanh': 0.9699255934267037}\n",
      "Average Precision of all models\n",
      "{'gru': 0.9858538990120523, 'lstm': 0.9799389808645891, 'rnn_relu': 0.9890504014701595, 'rnn_sigmoid': 0.9317483009685691, 'rnn_tanh': 0.9704395738700202}\n",
      "Average Recall of all models\n",
      "{'gru': 0.985681179775278, 'lstm': 0.9797542134831434, 'rnn_relu': 0.9889044943820187, 'rnn_sigmoid': 0.9307724719101109, 'rnn_tanh': 0.9701123595505604}\n"
     ]
    }
   ],
   "source": [
    "#obj.metric_dict_acc\n",
    "obj.get_averages()"
   ]
  },
  {
   "cell_type": "code",
   "execution_count": 6,
   "metadata": {},
   "outputs": [],
   "source": [
    "obj.get_color_map()"
   ]
  },
  {
   "cell_type": "code",
   "execution_count": null,
   "metadata": {},
   "outputs": [],
   "source": [
    "n = 50\n",
    "x = np.random.rand(n)\n",
    "y = np.random.rand(n)\n",
    "FirstLayerNodes = np.random.rand(n)\n",
    "AttentionNodes = np.random.rand(n)\n",
    "\n",
    "# Create the color map\n",
    "cmap = plt.cm.get_cmap('coolwarm')\n",
    "\n",
    "# Plot the data\n",
    "plt.scatter(x, y, c=FirstLayerNodes, cmap=cmap, vmin=0, vmax=1)\n",
    "plt.scatter(x, y, c=AttentionNodes, cmap=cmap, vmin=0, vmax=1)\n",
    "\n",
    "# Add a color bar\n",
    "cb = plt.colorbar()\n",
    "cb.set_label('Value')\n",
    "\n",
    "# Add labels and title\n",
    "plt.xlabel('X')\n",
    "plt.ylabel('Y')\n",
    "plt.title('Data')\n",
    "\n",
    "# Show the plot\n",
    "plt.show()"
   ]
  },
  {
   "cell_type": "code",
   "execution_count": null,
   "metadata": {},
   "outputs": [],
   "source": [
    "dic = obj.metric_dict_acc\n",
    "x,y,c= [],[],[]\n",
    "for key in dic:\n",
    "    spl = key[:-4].split(\"_\")\n",
    "    x_,y_ = int(spl[-2]),int(spl[-1])\n",
    "    x.append(x_)\n",
    "    y.append(y_)\n",
    "    c.append(dic[key])"
   ]
  },
  {
   "cell_type": "code",
   "execution_count": null,
   "metadata": {},
   "outputs": [],
   "source": [
    "plt.scatter(x=x,y=y,c=c,cmap='jet')\n",
    "plt.colorbar()\n",
    "plt.show()"
   ]
  },
  {
   "cell_type": "code",
   "execution_count": null,
   "metadata": {},
   "outputs": [],
   "source": [
    "import pandas as pd\n",
    "pd.Series(x).value_counts()"
   ]
  },
  {
   "cell_type": "code",
   "execution_count": null,
   "metadata": {},
   "outputs": [],
   "source": [
    "pd.Series(y).value_counts()"
   ]
  },
  {
   "cell_type": "code",
   "execution_count": null,
   "metadata": {},
   "outputs": [],
   "source": []
  }
 ],
 "metadata": {
  "kernelspec": {
   "display_name": "base",
   "language": "python",
   "name": "python3"
  },
  "language_info": {
   "codemirror_mode": {
    "name": "ipython",
    "version": 3
   },
   "file_extension": ".py",
   "mimetype": "text/x-python",
   "name": "python",
   "nbconvert_exporter": "python",
   "pygments_lexer": "ipython3",
   "version": "3.8.10"
  },
  "orig_nbformat": 4,
  "vscode": {
   "interpreter": {
    "hash": "c6e4e9f98eb68ad3b7c296f83d20e6de614cb42e90992a65aa266555a3137d0d"
   }
  }
 },
 "nbformat": 4,
 "nbformat_minor": 2
}
