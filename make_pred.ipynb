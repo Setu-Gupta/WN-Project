{
 "cells": [
  {
   "cell_type": "code",
   "execution_count": 27,
   "metadata": {},
   "outputs": [
    {
     "name": "stdout",
     "output_type": "stream",
     "text": [
      "[[0 0]\n",
      " [0 0]\n",
      " [0 0]\n",
      " ...\n",
      " [6 6]\n",
      " [6 6]\n",
      " [6 6]]\n"
     ]
    }
   ],
   "source": [
    "import numpy as np\n",
    "import seaborn as sns\n",
    "import matplotlib.pyplot as plt\n",
    "import sklearn\n",
    "from sklearn.metrics import confusion_matrix, accuracy_score, f1_score, precision_score, recall_score, ConfusionMatrixDisplay"
   ]
  },
  {
   "cell_type": "code",
   "execution_count": 28,
   "metadata": {},
   "outputs": [],
   "source": [
    "classification_labels = [\"bed\", \"fall\", \"pickup\", \"run\", \"sit\", \"stand\", \"walk\"]"
   ]
  },
  {
   "cell_type": "code",
   "execution_count": 29,
   "metadata": {},
   "outputs": [],
   "source": [
    "p1_array = np.arange(50, 351, 50)\n",
    "p2_array = np.arange(50, 1001, 50)\n",
    "\n",
    "def get_file_names(p1_array, p2_array):\n",
    "    name_array = []\n",
    "    for p1 in p1_array:\n",
    "        for p2 in p2_array:\n",
    "            name_array.append(f\"lstm_{str(p1)}_{str(p2)}\")\n",
    "    return name_array\n",
    "\n",
    "all_file_names = get_file_names(p1_array, p2_array)"
   ]
  },
  {
   "cell_type": "code",
   "execution_count": 33,
   "metadata": {},
   "outputs": [
    {
     "name": "stdout",
     "output_type": "stream",
     "text": [
      "Classwise Accuracy:\n",
      "[0.98019802 0.95774648 1.         1.         0.91666667 0.95555556\n",
      " 0.99512195]\n"
     ]
    }
   ],
   "source": [
    "def save_conf_matrix(file_name):\n",
    "    File_data = np.loadtxt(f\"data/{file_name}\", dtype=int)\n",
    "    \n",
    "    data = np.transpose(File_data)\n",
    "    y_valid, y_pred = data[0], data[1]\n",
    "    cf_matrix = confusion_matrix(y_valid, y_pred)\n",
    "    print(\"Classwise Accuracy:\")\n",
    "    print(cf_matrix.diagonal()/cf_matrix.sum(axis=1))\n",
    "\n",
    "    disp = ConfusionMatrixDisplay(confusion_matrix=cf_matrix, display_labels=classification_labels)\n",
    "    disp.plot()\n",
    "    plt.savefig('Images/cf_matrix/{}.png'.format(file_name))\n",
    "    plt.close()\n",
    "\n",
    "# This is author's model\n",
    "save_conf_matrix(\"lstm_200_400\")"
   ]
  },
  {
   "cell_type": "code",
   "execution_count": 34,
   "metadata": {},
   "outputs": [
    {
     "name": "stdout",
     "output_type": "stream",
     "text": [
      "Accuracy: 0.9817415730337079\n",
      "F1 score: 0.9816786973940537\n",
      "Precision: 0.9819351664194051\n",
      "Recall: 0.9817415730337079\n"
     ]
    }
   ],
   "source": [
    "def get_results(file_name):\n",
    "    File_data = np.loadtxt(f\"data/{file_name}\", dtype=int)\n",
    "    \n",
    "    data = np.transpose(File_data)\n",
    "    y_valid, y_pred = data[0], data[1]\n",
    "    print(\"Accuracy:\", accuracy_score(y_valid, y_pred))\n",
    "    print(\"F1 score:\", f1_score(y_valid, y_pred, average = \"weighted\"))\n",
    "    print(\"Precision:\", precision_score(y_valid, y_pred, average='weighted'))\n",
    "    print(\"Recall:\", recall_score(y_valid, y_pred, average='weighted'))\n",
    "\n",
    "# This is author's model\n",
    "get_results(\"lstm_200_400\")"
   ]
  },
  {
   "cell_type": "code",
   "execution_count": 32,
   "metadata": {},
   "outputs": [],
   "source": [
    "def save_all_matrices(all_file_names):\n",
    "    for file_name in all_file_names:\n",
    "        save_conf_matrix(file_name)\n",
    "\n",
    "save_all_matrices(all_file_names)"
   ]
  }
 ],
 "metadata": {
  "kernelspec": {
   "display_name": "base",
   "language": "python",
   "name": "python3"
  },
  "language_info": {
   "codemirror_mode": {
    "name": "ipython",
    "version": 3
   },
   "file_extension": ".py",
   "mimetype": "text/x-python",
   "name": "python",
   "nbconvert_exporter": "python",
   "pygments_lexer": "ipython3",
   "version": "3.8.10"
  },
  "orig_nbformat": 4,
  "vscode": {
   "interpreter": {
    "hash": "c6e4e9f98eb68ad3b7c296f83d20e6de614cb42e90992a65aa266555a3137d0d"
   }
  }
 },
 "nbformat": 4,
 "nbformat_minor": 2
}
